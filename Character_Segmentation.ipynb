{
  "nbformat": 4,
  "nbformat_minor": 0,
  "metadata": {
    "colab": {
      "provenance": [],
      "authorship_tag": "ABX9TyMVBbw/h1LtFsGgnmQwoZCE",
      "include_colab_link": true
    },
    "kernelspec": {
      "name": "python3",
      "display_name": "Python 3"
    },
    "language_info": {
      "name": "python"
    }
  },
  "cells": [
    {
      "cell_type": "markdown",
      "metadata": {
        "id": "view-in-github",
        "colab_type": "text"
      },
      "source": [
        "<a href=\"https://colab.research.google.com/github/gvalencios/demoNeuralNetwork/blob/main/Character_Segmentation.ipynb\" target=\"_parent\"><img src=\"https://colab.research.google.com/assets/colab-badge.svg\" alt=\"Open In Colab\"/></a>"
      ]
    },
    {
      "cell_type": "markdown",
      "source": [
        "*Mounting gdrive to open and store file*"
      ],
      "metadata": {
        "id": "fut3yPQBnC9g"
      }
    },
    {
      "cell_type": "code",
      "source": [
        "from google.colab import drive\n",
        "drive.mount('/content/drive')"
      ],
      "metadata": {
        "colab": {
          "base_uri": "https://localhost:8080/"
        },
        "id": "VCfq2ZswBpSY",
        "outputId": "c76699bf-3976-4f8a-89f9-965638580bf2"
      },
      "execution_count": null,
      "outputs": [
        {
          "output_type": "stream",
          "name": "stdout",
          "text": [
            "Drive already mounted at /content/drive; to attempt to forcibly remount, call drive.mount(\"/content/drive\", force_remount=True).\n"
          ]
        }
      ]
    },
    {
      "cell_type": "markdown",
      "source": [
        "**Initialization process**"
      ],
      "metadata": {
        "id": "fo1boGUgnIp2"
      }
    },
    {
      "cell_type": "code",
      "source": [
        "from PIL import Image, ImageEnhance\n",
        "import numpy as np\n",
        "import matplotlib.pyplot as plt\n",
        "import cv2\n",
        "import json\n",
        "\n",
        "from pathlib import Path\n",
        "\n",
        "images_folder_path = Path('/content/drive/MyDrive/HKUUAS/suas-odcl-training-assets-master/output')\n",
        "image_paths = list(images_folder_path.glob(\"*.png\"))\n",
        "image_path= image_paths[0]\n",
        "\n",
        "image_path"
      ],
      "metadata": {
        "id": "z7mEmQKcBp_o",
        "colab": {
          "base_uri": "https://localhost:8080/"
        },
        "outputId": "926eb59f-678d-43d6-9824-9a3134cf3472"
      },
      "execution_count": null,
      "outputs": [
        {
          "output_type": "execute_result",
          "data": {
            "text/plain": [
              "PosixPath('/content/drive/MyDrive/HKUUAS/suas-odcl-training-assets-master/output/8b0cafea-1aea-45eb-a4c5-e5c48aca81ef.png')"
            ]
          },
          "metadata": {},
          "execution_count": 311
        }
      ]
    },
    {
      "cell_type": "code",
      "source": [
        "json_path = image_path.parent / (image_path.stem + \".json\")\n",
        "with open(json_path, \"r\") as f:\n",
        "  data = json.loads(f.read())\n",
        "\n",
        "json_path"
      ],
      "metadata": {
        "colab": {
          "base_uri": "https://localhost:8080/"
        },
        "id": "8pJO4M3VlDVE",
        "outputId": "c4c0a5ad-61b5-4d25-ce2b-8a52c1d3ced7"
      },
      "execution_count": null,
      "outputs": [
        {
          "output_type": "execute_result",
          "data": {
            "text/plain": [
              "PosixPath('/content/drive/MyDrive/HKUUAS/suas-odcl-training-assets-master/output/8b0cafea-1aea-45eb-a4c5-e5c48aca81ef.json')"
            ]
          },
          "metadata": {},
          "execution_count": 312
        }
      ]
    },
    {
      "cell_type": "markdown",
      "source": [
        "**Cropping**"
      ],
      "metadata": {
        "id": "bueTRarToLu9"
      }
    },
    {
      "cell_type": "code",
      "source": [
        "#crop the image\n",
        "import os\n",
        "img = Image.open(image_path)\n",
        "cropped_img = img.crop(data['bbox'])\n",
        "\n",
        "plt.imshow(cropped_img)"
      ],
      "metadata": {
        "id": "SAjgSSiSEHRr",
        "colab": {
          "base_uri": "https://localhost:8080/",
          "height": 448
        },
        "outputId": "0caa8b7c-8834-446e-f947-28d6757b16fa"
      },
      "execution_count": null,
      "outputs": [
        {
          "output_type": "execute_result",
          "data": {
            "text/plain": [
              "<matplotlib.image.AxesImage at 0x7fee5fd89a30>"
            ]
          },
          "metadata": {},
          "execution_count": 313
        },
        {
          "output_type": "display_data",
          "data": {
            "text/plain": [
              "<Figure size 640x480 with 1 Axes>"
            ],
            "image/png": "[encoded data removed]"
          },
          "metadata": {}
        }
      ]
    },
    {
      "cell_type": "markdown",
      "source": [
        "**Add filter to the image**"
      ],
      "metadata": {
        "id": "HbqtQ66PoFj-"
      }
    },
    {
      "cell_type": "code",
      "source": [
        "#image brightness enhancer\n",
        "enhancer = ImageEnhance.Contrast(cropped_img)\n",
        "\n",
        "factor = 1.2\n",
        "cropped_img_enhanced = enhancer.enhance(factor)\n",
        "\n",
        "plt.imshow(cropped_img_enhanced)"
      ],
      "metadata": {
        "colab": {
          "base_uri": "https://localhost:8080/",
          "height": 448
        },
        "id": "cqKW4UIhME8M",
        "outputId": "f1e29a7b-3121-4fd5-c1f9-a64316b3090c"
      },
      "execution_count": null,
      "outputs": [
        {
          "output_type": "execute_result",
          "data": {
            "text/plain": [
              "<matplotlib.image.AxesImage at 0x7fee5fd7c5e0>"
            ]
          },
          "metadata": {},
          "execution_count": 314
        },
        {
          "output_type": "display_data",
          "data": {
            "text/plain": [
              "<Figure size 640x480 with 1 Axes>"
            ],
            "image/png": "[encoded data removed]"
          },
          "metadata": {}
        }
      ]
    },
    {
      "cell_type": "markdown",
      "source": [
        "**Edge detection**"
      ],
      "metadata": {
        "id": "fzvXDamloRtF"
      }
    },
    {
      "cell_type": "code",
      "source": [
        "#detect edge\n",
        "filter = ImageEnhance.Contrast(cropped_img_enhanced)\n",
        "bw = (filter.enhance(0))\n",
        "\n",
        "plt.imshow(bw)"
      ],
      "metadata": {
        "colab": {
          "base_uri": "https://localhost:8080/",
          "height": 448
        },
        "id": "YJUjesqBpC4J",
        "outputId": "84f3fff5-194b-43f7-d304-069edbbb76c2"
      },
      "execution_count": null,
      "outputs": [
        {
          "output_type": "execute_result",
          "data": {
            "text/plain": [
              "<matplotlib.image.AxesImage at 0x7fee5fcf0820>"
            ]
          },
          "metadata": {},
          "execution_count": 315
        },
        {
          "output_type": "display_data",
          "data": {
            "text/plain": [
              "<Figure size 640x480 with 1 Axes>"
            ],
            "image/png": "[encoded data removed]"
          },
          "metadata": {}
        }
      ]
    },
    {
      "cell_type": "code",
      "source": [
        "#sharpening the image\n",
        "bw_blackenned = bw.copy()\n",
        "pixels = bw_blackenned.load() # create the pixel map\n",
        "\n",
        "for i in range(bw.size[0]): # for every pixel:\n",
        "     for j in range(bw.size[1]):\n",
        "        if pixels[i,j][3] == 255:\n",
        "             pixels[i, j] = (0, 0, 0, 255)\n",
        "\n",
        "plt.imshow(bw_blackenned)"
      ],
      "metadata": {
        "colab": {
          "base_uri": "https://localhost:8080/",
          "height": 448
        },
        "id": "sDqrdprbk1Or",
        "outputId": "bbc1d52d-7ba4-4e00-bda7-8a1efa33af2f"
      },
      "execution_count": null,
      "outputs": [
        {
          "output_type": "execute_result",
          "data": {
            "text/plain": [
              "<matplotlib.image.AxesImage at 0x7fee5fc05fd0>"
            ]
          },
          "metadata": {},
          "execution_count": 316
        },
        {
          "output_type": "display_data",
          "data": {
            "text/plain": [
              "<Figure size 640x480 with 1 Axes>"
            ],
            "image/png": "[encoded data removed]"
          },
          "metadata": {}
        }
      ]
    },
    {
      "cell_type": "markdown",
      "source": [
        "**FILL CONTOUR of the edge so that we can change the background to white**"
      ],
      "metadata": {
        "id": "oXEi517C-RDV"
      }
    },
    {
      "cell_type": "code",
      "source": [
        "# Read image as grayscale\n",
        "_im = np.copy(bw_blackenned)\n",
        "img = cv2.cvtColor(_im, cv2.COLOR_BGR2GRAY)\n",
        "hh, ww = img.shape[:2]\n",
        "\n",
        "# threshold\n",
        "thresh = cv2.threshold(img, 0, 255, cv2.THRESH_BINARY)[1]\n",
        "\n",
        "# get the (largest) contour\n",
        "contours = cv2.findContours(thresh, cv2.RETR_EXTERNAL, cv2.CHAIN_APPROX_SIMPLE)\n",
        "contours = contours[0] if len(contours) == 2 else contours[1]\n",
        "big_contour = max(contours, key=cv2.contourArea)\n",
        "\n",
        "# draw white filled contour on black background\n",
        "result = np.zeros_like(img)\n",
        "cv2.drawContours(result, [big_contour], 0, (255,255,255), cv2.FILLED)\n",
        "filled_shape = cv2.cvtColor(result, cv2.COLOR_BGR2RGB)\n",
        "\n",
        "plt.imshow(filled_shape)"
      ],
      "metadata": {
        "colab": {
          "base_uri": "https://localhost:8080/",
          "height": 448
        },
        "id": "L7gcP4lCnQQA",
        "outputId": "9868e36c-2751-40be-e06b-fcc2198fd880"
      },
      "execution_count": null,
      "outputs": [
        {
          "output_type": "execute_result",
          "data": {
            "text/plain": [
              "<matplotlib.image.AxesImage at 0x7fee5fc427f0>"
            ]
          },
          "metadata": {},
          "execution_count": 317
        },
        {
          "output_type": "display_data",
          "data": {
            "text/plain": [
              "<Figure size 640x480 with 1 Axes>"
            ],
            "image/png": "[encoded data removed]"
          },
          "metadata": {}
        }
      ]
    },
    {
      "cell_type": "markdown",
      "source": [
        "**produce final image (that only show the shape and text)**"
      ],
      "metadata": {
        "id": "osDtUbMSobxn"
      }
    },
    {
      "cell_type": "code",
      "source": [
        "#change background color into shape colour\n",
        "image = np.copy(cropped_img_enhanced)\n",
        "for i in range(24):\n",
        "  for j in range(24):\n",
        "    if np.array_equal(filled_shape[i][j], np.array([0, 0, 0])) == True:\n",
        "      image[i][j] = [255, 255, 255, 255]\n",
        "    if np.array_equal(np.copy(bw_blackenned)[i][j], np.array([0, 0, 0, 255])) == False:\n",
        "      image[i][j] = [255, 255, 255, 255]\n",
        "\n",
        "plt.imshow(image)"
      ],
      "metadata": {
        "colab": {
          "base_uri": "https://localhost:8080/",
          "height": 448
        },
        "id": "Z83OslFCseew",
        "outputId": "e7dddc49-3943-43c2-d17e-860a38f7502f"
      },
      "execution_count": null,
      "outputs": [
        {
          "output_type": "execute_result",
          "data": {
            "text/plain": [
              "<matplotlib.image.AxesImage at 0x7fee5fbbe280>"
            ]
          },
          "metadata": {},
          "execution_count": 318
        },
        {
          "output_type": "display_data",
          "data": {
            "text/plain": [
              "<Figure size 640x480 with 1 Axes>"
            ],
            "image/png": "[encoded data removed]"
          },
          "metadata": {}
        }
      ]
    },
    {
      "cell_type": "markdown",
      "source": [
        "**GENERATE FINAL SHAPE**"
      ],
      "metadata": {
        "id": "Vw1UtjpAOP7H"
      }
    },
    {
      "cell_type": "markdown",
      "source": [
        "turn everything other than background into black"
      ],
      "metadata": {
        "id": "24PZSD6XnQD4"
      }
    },
    {
      "cell_type": "code",
      "source": [
        "finalSHAPE = np.copy(image)\n",
        "for i in range(24):\n",
        "  for j in range(24):\n",
        "    if np.array_equal(finalSHAPE[i][j], np.array([255, 255, 255, 255])) == False:\n",
        "      finalSHAPE[i][j] = [0, 0, 0, 255]\n",
        "\n",
        "plt.imshow(finalSHAPE)"
      ],
      "metadata": {
        "colab": {
          "base_uri": "https://localhost:8080/",
          "height": 448
        },
        "id": "-mTv8HLExGu0",
        "outputId": "c6b48096-4369-43e1-b3e8-3400cbf1e95c"
      },
      "execution_count": null,
      "outputs": [
        {
          "output_type": "execute_result",
          "data": {
            "text/plain": [
              "<matplotlib.image.AxesImage at 0x7fee5fb1e640>"
            ]
          },
          "metadata": {},
          "execution_count": 319
        },
        {
          "output_type": "display_data",
          "data": {
            "text/plain": [
              "<Figure size 640x480 with 1 Axes>"
            ],
            "image/png": "[encoded data removed]"
          },
          "metadata": {}
        }
      ]
    },
    {
      "cell_type": "markdown",
      "source": [
        "**GENERATE FINAL CHARACTER**"
      ],
      "metadata": {
        "id": "CQyCZxEqOZil"
      }
    },
    {
      "cell_type": "markdown",
      "source": [
        "know the shape colour"
      ],
      "metadata": {
        "id": "3Nl3FBfRmFHh"
      }
    },
    {
      "cell_type": "code",
      "source": [
        "#to know the shape color\n",
        "r, g, b, count = 0, 0, 0, 0\n",
        "for i in range(24):\n",
        "  for j in range(24):    \n",
        "    if np.array_equal(image[i][j], np.array([255,255,255,255])) == False:\n",
        "      count += 1\n",
        "      r += image[i][j][0]\n",
        "      g += image[i][j][1] \n",
        "      b += image[i][j][2] \n",
        "      break\n",
        "r, g, b = r/count, g/count, b/count\n",
        "shape_colour = [r,g,b,255]\n",
        "shape_colour"
      ],
      "metadata": {
        "colab": {
          "base_uri": "https://localhost:8080/"
        },
        "id": "L4UiHrj2VwiJ",
        "outputId": "fc47041c-f4e7-459e-a3ef-a40fe709f443"
      },
      "execution_count": null,
      "outputs": [
        {
          "output_type": "execute_result",
          "data": {
            "text/plain": [
              "[213.0, 213.0, 213.0, 255]"
            ]
          },
          "metadata": {},
          "execution_count": 320
        }
      ]
    },
    {
      "cell_type": "markdown",
      "source": [
        "turn the background into shape colour"
      ],
      "metadata": {
        "id": "PJuPs1AmmIoQ"
      }
    },
    {
      "cell_type": "code",
      "source": [
        "textV1 = np.copy(image)\n",
        "for i in range(24):\n",
        "  for j in range(24):\n",
        "    if np.array_equal(textV1[i][j], np.array([255, 255, 255, 255])) == True:\n",
        "      textV1[i][j] = np.copy(shape_colour)\n",
        "\n",
        "plt.imshow(textV1)"
      ],
      "metadata": {
        "id": "R-DHo0SrOa5C",
        "colab": {
          "base_uri": "https://localhost:8080/",
          "height": 448
        },
        "outputId": "478cdf7d-3d48-4c97-8c8b-3f2cf8c9699f"
      },
      "execution_count": null,
      "outputs": [
        {
          "output_type": "execute_result",
          "data": {
            "text/plain": [
              "<matplotlib.image.AxesImage at 0x7fee5fa91bb0>"
            ]
          },
          "metadata": {},
          "execution_count": 321
        },
        {
          "output_type": "display_data",
          "data": {
            "text/plain": [
              "<Figure size 640x480 with 1 Axes>"
            ],
            "image/png": "[encoded data removed]"
          },
          "metadata": {}
        }
      ]
    },
    {
      "cell_type": "markdown",
      "source": [
        "use k-means clustering to focus on the text colour"
      ],
      "metadata": {
        "id": "Rodc32OCmGEI"
      }
    },
    {
      "cell_type": "code",
      "source": [
        "# Reshaping the image into a 2D array of pixels and 3 color values (RGB)\n",
        "_pixel = cv2.cvtColor(textV1, cv2.COLOR_RGB2BGR)\n",
        "pixel_vals = _pixel.reshape((-1,3))\n",
        "\n",
        "# Convert to float type\n",
        "pixel_vals = np.float32(pixel_vals)\n",
        "\n",
        "#the below line of code defines the criteria for the algorithm to stop running,\n",
        "#which will happen is 100 iterations are run or the epsilon (which is the required accuracy)\n",
        "#becomes 85%\n",
        "criteria = (cv2.TERM_CRITERIA_EPS + cv2.TERM_CRITERIA_MAX_ITER, 100, 0.85)\n",
        "\n",
        "# then perform k-means clustering with number of clusters defined as 3\n",
        "#also random centres are initially choosed for k-means clustering\n",
        "k = 4\n",
        "retval, labels, centers = cv2.kmeans(pixel_vals, k, None, criteria, 10, cv2.KMEANS_RANDOM_CENTERS)\n",
        "\n",
        "# convert data into 8-bit values\n",
        "centers = np.uint8(centers)\n",
        "segmented_data = centers[labels.flatten()]\n",
        "\n",
        "# reshape data into the original image dimensions\n",
        "segmented_image = segmented_data.reshape((_pixel.shape))\n",
        "segmented_image = cv2.cvtColor(segmented_image, cv2.COLOR_BGR2RGB)\n",
        "\n",
        "plt.imshow(segmented_image)"
      ],
      "metadata": {
        "id": "0XuIUjNgJFOx",
        "colab": {
          "base_uri": "https://localhost:8080/",
          "height": 448
        },
        "outputId": "0df8950d-622e-4235-a1fd-c5cb483c335a"
      },
      "execution_count": null,
      "outputs": [
        {
          "output_type": "execute_result",
          "data": {
            "text/plain": [
              "<matplotlib.image.AxesImage at 0x7fee5fa68280>"
            ]
          },
          "metadata": {},
          "execution_count": 322
        },
        {
          "output_type": "display_data",
          "data": {
            "text/plain": [
              "<Figure size 640x480 with 1 Axes>"
            ],
            "image/png": "[encoded data removed]"
          },
          "metadata": {}
        }
      ]
    },
    {
      "cell_type": "markdown",
      "source": [
        "Add black and white filter"
      ],
      "metadata": {
        "id": "O2gK2kTzqI2k"
      }
    },
    {
      "cell_type": "code",
      "source": [
        "#filter process\n",
        "_imgray = cv2.cvtColor(segmented_image, cv2.COLOR_RGB2GRAY)\n",
        "(thresh, im_bw) = cv2.threshold(_imgray, 127, 255, cv2.THRESH_TOZERO | cv2.THRESH_OTSU)\n",
        "im_bw = cv2.cvtColor(im_bw, cv2.COLOR_GRAY2RGB)\n",
        "\n",
        "plt.imshow(im_bw)"
      ],
      "metadata": {
        "colab": {
          "base_uri": "https://localhost:8080/",
          "height": 448
        },
        "id": "-uW5s6YWqNA8",
        "outputId": "df46251f-76e0-4fc6-b35f-3f0ccb7a2e3b"
      },
      "execution_count": null,
      "outputs": [
        {
          "output_type": "execute_result",
          "data": {
            "text/plain": [
              "<matplotlib.image.AxesImage at 0x7fee5f9f6370>"
            ]
          },
          "metadata": {},
          "execution_count": 323
        },
        {
          "output_type": "display_data",
          "data": {
            "text/plain": [
              "<Figure size 640x480 with 1 Axes>"
            ],
            "image/png": "[encoded data removed]"
          },
          "metadata": {}
        }
      ]
    },
    {
      "cell_type": "markdown",
      "source": [
        "turn background to white"
      ],
      "metadata": {
        "id": "Frs1Q4-5sFbR"
      }
    },
    {
      "cell_type": "code",
      "source": [
        "textFINAL = np.copy(im_bw)\n",
        "bg_colour = np.copy(textFINAL[0][0])\n",
        "for i in range(24):\n",
        "  for j in range(24):\n",
        "    if np.array_equal(textFINAL[i][j], bg_colour) == True:\n",
        "      textFINAL[i][j] = np.copy([255])\n",
        "\n",
        "plt.imshow(textFINAL)"
      ],
      "metadata": {
        "colab": {
          "base_uri": "https://localhost:8080/",
          "height": 448
        },
        "id": "-KlEERbxoyM4",
        "outputId": "7dfa1477-0a43-4ee6-f81d-d7007b8b498f"
      },
      "execution_count": null,
      "outputs": [
        {
          "output_type": "execute_result",
          "data": {
            "text/plain": [
              "<matplotlib.image.AxesImage at 0x7fee5f9eea30>"
            ]
          },
          "metadata": {},
          "execution_count": 324
        },
        {
          "output_type": "display_data",
          "data": {
            "text/plain": [
              "<Figure size 640x480 with 1 Axes>"
            ],
            "image/png": "[encoded data removed]"
          },
          "metadata": {}
        }
      ]
    },
    {
      "cell_type": "markdown",
      "source": [
        "**DONE UNTIL HERE**"
      ],
      "metadata": {
        "id": "996miF9nm1tn"
      }
    }
  ]
}